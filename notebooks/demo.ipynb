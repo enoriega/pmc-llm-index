{
 "cells": [
  {
   "cell_type": "code",
   "execution_count": 20,
   "metadata": {},
   "outputs": [],
   "source": [
    "from langchain_huggingface import ChatHuggingFace\n",
    "import os\n",
    "from typing import Optional\n",
    "from sqlalchemy import create_engine, inspect, text\n",
    "from typer import Typer\n",
    "from langchain_core.prompts import ChatPromptTemplate\n",
    "from langchain_core.output_parsers import StrOutputParser\n",
    "from langchain_openai import  ChatOpenAI\n",
    "\n",
    "SYSTEM_PROMPT = \"\"\"\n",
    "You are a database engine who contains the following tables and their schemas. \n",
    "Your task is to generate the SQL statements necessary that resemble the user's query. You must generate only and only SQL for SQLite. Don't add any preamble or explanation along the SQL statement.\n",
    "\n",
    "Tables:\n",
    "\n",
    "Schema for table article:\n",
    "  id (INTEGER) // Primary key, the numerical id of the article within the database\n",
    "  path (VARCHAR) // The path of the archive file that contains the files associated to the article\n",
    "  pmcid (VARCHAR) // PMC identifier, a unique identifier assigned to each article in PMC OA\n",
    "  pmid (VARCHAR) // PubMed identifier, a unique identifier assigned to each article in PubMed. This identifier is different from the PMC identifier\n",
    "  last_updated (DATETIME) // Time stamp of the last time the article was updated\n",
    "  journal_id (INTEGER) // Foreign key to the journal table. Use this key to join to the journal table when you need to retrieve the journal's name\n",
    "  year (INTEGER)\t// Year of the article's publication\n",
    "  month (VARCHAR) // Month or month range of the article's publication\n",
    "  day (INTEGER) // Day of the month of the article's publication\n",
    "  volume (INTEGER) // Volume of the journal in which the article was published\n",
    "  issue (INTEGER) // Issue of the journal in which the article was published\n",
    "  eaccession (VARCHAR) // Electronic accession number of the article, This can be the page number, the range of the page numbers, a DOI, or any other identifier\n",
    "  license_id (INTEGER) // Foreign key to the license table. Use this key to join to the license table when you need to retrieve the license's name\n",
    "  retracted (BOOLEAN) // Indicates whether the article has been retracted or not\n",
    "\n",
    "Schema for table journal:\n",
    "  id (INTEGER) // Primary key, the numerical id of the journal within the database\n",
    "  commercial (BOOLEAN) // Indicates whether the journal is a commercial journal or not\n",
    "  name (VARCHAR) // The name of the journal. This is the name that is used to refer to the journal in the article's citation\n",
    "\n",
    "Schema for table license:\n",
    "  id (INTEGER) // Primary key, the numerical id of the license within the database\n",
    "  name (VARCHAR) // The name of the license under which the article is distributed\n",
    "\n",
    "\"\"\".strip()\n",
    "\n",
    "# Generate SQL from a user query\n",
    "prompt_template = ChatPromptTemplate.from_messages(\n",
    "\t[(\"system\", SYSTEM_PROMPT),\n",
    "\t(\"user\", \"\"\"User's query in natural language: {query}\n",
    "\t\t\t\tSQL statement:\"\"\".strip())]\n",
    ")\n",
    "\n",
    "llm = ChatOpenAI(\n",
    "\tbase_url=\"https://api-inference.huggingface.co/v1/\",\n",
    "\tmodel=\"Qwen/Qwen2.5-Coder-32B-Instruct\",\n",
    "  api_key=...\n",
    ")\n",
    "\n",
    "chain = prompt_template | llm | StrOutputParser()"
   ]
  },
  {
   "cell_type": "code",
   "execution_count": 22,
   "metadata": {},
   "outputs": [
    {
     "ename": "AttributeError",
     "evalue": "'str' object has no attribute 'choices'",
     "output_type": "error",
     "traceback": [
      "\u001b[0;31m---------------------------------------------------------------------------\u001b[0m",
      "\u001b[0;31mAttributeError\u001b[0m                            Traceback (most recent call last)",
      "Cell \u001b[0;32mIn[22], line 19\u001b[0m\n\u001b[1;32m      9\u001b[0m stream \u001b[38;5;241m=\u001b[39m client\u001b[38;5;241m.\u001b[39mchat\u001b[38;5;241m.\u001b[39mcompletions\u001b[38;5;241m.\u001b[39mcreate(\n\u001b[1;32m     10\u001b[0m     model\u001b[38;5;241m=\u001b[39m\u001b[38;5;124m\"\u001b[39m\u001b[38;5;124mQwen/Qwen2.5-Coder-32B-Instruct\u001b[39m\u001b[38;5;124m\"\u001b[39m, \n\u001b[1;32m     11\u001b[0m \tmessages\u001b[38;5;241m=\u001b[39mmessages, \n\u001b[0;32m   (...)\u001b[0m\n\u001b[1;32m     15\u001b[0m \tstream\u001b[38;5;241m=\u001b[39m\u001b[38;5;28;01mFalse\u001b[39;00m\n\u001b[1;32m     16\u001b[0m )\n\u001b[1;32m     18\u001b[0m \u001b[38;5;28;01mfor\u001b[39;00m chunk \u001b[38;5;129;01min\u001b[39;00m stream:\n\u001b[0;32m---> 19\u001b[0m     \u001b[38;5;28mprint\u001b[39m(\u001b[43mchunk\u001b[49m\u001b[38;5;241;43m.\u001b[39;49m\u001b[43mchoices\u001b[49m[\u001b[38;5;241m0\u001b[39m]\u001b[38;5;241m.\u001b[39mdelta\u001b[38;5;241m.\u001b[39mcontent)\n",
      "\u001b[0;31mAttributeError\u001b[0m: 'str' object has no attribute 'choices'"
     ]
    }
   ],
   "source": [
    "from huggingface_hub import InferenceClient\n",
    "\n",
    "client = InferenceClient(api_key=...)\n",
    "\n",
    "messages = [\n",
    "\t{ \"role\": \"user\", \"content\": \"Tell me a story\" }\n",
    "]\n",
    "\n",
    "stream = client.chat.completions.create(\n",
    "    model=\"Qwen/Qwen2.5-Coder-32B-Instruct\", \n",
    "\tmessages=messages, \n",
    "\ttemperature=0.5,\n",
    "\tmax_tokens=2048,\n",
    "\ttop_p=0.7,\n",
    "\tstream=False\n",
    ")\n",
    "\n",
    "for chunk in stream:\n",
    "    print(chunk.choices[0].delta.content)"
   ]
  },
  {
   "cell_type": "code",
   "execution_count": 26,
   "metadata": {},
   "outputs": [
    {
     "name": "stdout",
     "output_type": "stream",
     "text": [
      "Certainly! Here's a story for you:\n",
      "\n",
      "---\n",
      "\n",
      "In a small village nestled between rolling hills and whispering woods, there lived a young girl named Elara. Elara was known for her kind heart and her love for adventure. She spent most of her days exploring the village and the surrounding countryside, often accompanied by her loyal friend, a small, fluffy rabbit named Thumper.\n",
      "\n",
      "One sunny morning, as Elara and Thumper were hopping through the meadow, they stumbled upon a peculiar old tree. The tree was unlike any other—they could see a faint, shimmering light emanating from within its gnarled branches. Curiosity piqued, Elara approached the tree and placed her hand on its bark. To her surprise, the tree groaned softly and a door appeared in its trunk.\n",
      "\n",
      "\"Who dares disturb my slumber?\" a deep, resonant voice echoed from within.\n",
      "\n",
      "Elara, not one to be easily intimidated, stepped inside the tree. Inside, she found a cozy room filled with books, maps, and a large, comfortable armchair. The voice belonged to an old, wise-looking owl perched on a wooden shelf.\n",
      "\n",
      "\"I am Eldrin, the guardian of this tree. You have awakened me from my long slumber. What brings you here, young one?\"\n",
      "\n",
      "Elara explained her love for adventure and her curiosity about the tree. Eldrin, impressed by her bravery and spirit, decided to grant her a wish. \"Very well, I shall grant you one wish, but it must be something that will benefit the village and its inhabitants.\"\n",
      "\n",
      "Elara thought for a moment. \"I wish for the village to have a source of clean, fresh water that will never run dry.\"\n",
      "\n",
      "Eldrin nodded approvingly. \"A noble wish, indeed. I shall see to it that your village is blessed with a never-ending spring.\"\n",
      "\n",
      "With that, Eldrin closed his eyes and began to chant an ancient spell. Suddenly, a warm glow filled the room, and when it faded, a sparkling spring appeared in the middle of the village square. The water was clear and refreshing, and it flowed steadily, providing the villagers with clean water for generations to come.\n",
      "\n",
      "Elara and Thumper returned to the tree, where Eldrin thanked them for their visit and wished them well. As they left, Elara felt a sense of pride and accomplishment. She had not only fulfilled her own wish but had also brought joy and relief to her village.\n",
      "\n",
      "From that day on, Elara was known not only for her adventures but also for her kindness and her ability to make a difference in the lives of others. And the old tree, now a beloved landmark, continued to stand tall, a testament to the power of friendship, bravery, and the magic that can be found in the most unexpected places.\n",
      "\n",
      "---\n",
      "\n",
      "I hope you enjoyed the story! Let me know if you'd like another one.\n"
     ]
    }
   ],
   "source": [
    "print(stream.choices[0].message.content)"
   ]
  },
  {
   "cell_type": "code",
   "execution_count": null,
   "metadata": {},
   "outputs": [],
   "source": []
  }
 ],
 "metadata": {
  "kernelspec": {
   "display_name": ".venv",
   "language": "python",
   "name": "python3"
  },
  "language_info": {
   "codemirror_mode": {
    "name": "ipython",
    "version": 3
   },
   "file_extension": ".py",
   "mimetype": "text/x-python",
   "name": "python",
   "nbconvert_exporter": "python",
   "pygments_lexer": "ipython3",
   "version": "3.12.8"
  }
 },
 "nbformat": 4,
 "nbformat_minor": 2
}
